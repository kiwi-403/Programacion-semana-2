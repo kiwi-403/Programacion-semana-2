{
  "nbformat": 4,
  "nbformat_minor": 0,
  "metadata": {
    "colab": {
      "provenance": [],
      "name": "problem1.ipynb",
      "authorship_tag": "ABX9TyPE8zTjgkLeC1CiLc13FZNZ",
      "include_colab_link": true
    },
    "kernelspec": {
      "name": "python3",
      "display_name": "Python 3"
    },
    "language_info": {
      "name": "python"
    }
  },
  "cells": [
    {
      "cell_type": "markdown",
      "metadata": {
        "id": "view-in-github",
        "colab_type": "text"
      },
      "source": [
        "<a href=\"https://colab.research.google.com/github/kiwi-403/Programacion-semana-2/blob/main/problem1.ipynb\" target=\"_parent\"><img src=\"https://colab.research.google.com/assets/colab-badge.svg\" alt=\"Open In Colab\"/></a>"
      ]
    },
    {
      "cell_type": "code",
      "execution_count": null,
      "metadata": {
        "colab": {
          "base_uri": "https://localhost:8080/"
        },
        "id": "UFbnUdKGsrfE",
        "outputId": "2713f3af-70d0-48a9-ebd9-bc7a8809a663"
      },
      "outputs": [
        {
          "output_type": "stream",
          "name": "stdout",
          "text": [
            "Ingrese el numero primeriso:2\n",
            "ingrese hasta donde:20\n",
            "Los numeros pares son:\n",
            "2\n",
            "4\n",
            "6\n",
            "8\n",
            "10\n",
            "12\n",
            "14\n",
            "16\n",
            "18\n",
            "La suma de los numeros pares es: 90\n"
          ]
        }
      ],
      "source": [
        "num1=int(input(\"Ingrese el numero primeriso:\"))\n",
        "num2=int(input(\"ingrese hasta donde:\"))\n",
        "print(\"Los numeros pares son:\")\n",
        "suma=0\n",
        "while num1<num2:\n",
        "  if num1%2==0:\n",
        "    print(num1)\n",
        "    suma=suma+num1\n",
        "  num1+=1\n",
        "print(\"La suma de los numeros pares es:\",suma)"
      ]
    }
  ]
}