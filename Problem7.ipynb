{
  "nbformat": 4,
  "nbformat_minor": 0,
  "metadata": {
    "colab": {
      "provenance": [],
      "authorship_tag": "ABX9TyPUt287aYB1e/BBMAsbzWrm",
      "include_colab_link": true
    },
    "kernelspec": {
      "name": "python3",
      "display_name": "Python 3"
    },
    "language_info": {
      "name": "python"
    }
  },
  "cells": [
    {
      "cell_type": "markdown",
      "metadata": {
        "id": "view-in-github",
        "colab_type": "text"
      },
      "source": [
        "<a href=\"https://colab.research.google.com/github/kiwi-403/Programacion-semana-2/blob/main/Problem7.ipynb\" target=\"_parent\"><img src=\"https://colab.research.google.com/assets/colab-badge.svg\" alt=\"Open In Colab\"/></a>"
      ]
    },
    {
      "cell_type": "code",
      "source": [
        "# Crear una lista vacía para almacenar los números\n",
        "Lnum = []\n",
        "cantidad = int(input(\"¿Cuántos números quieres sumar? \"))\n",
        "for i in range(cantidad):\n",
        "    numero = float(input(f\"Ingrese el número {i+1}: \"))\n",
        "    Lnum.append(numero)\n",
        "suma = sum(Lnum)\n",
        "print(\"La suma de los números es:\", suma)\n"
      ],
      "metadata": {
        "colab": {
          "base_uri": "https://localhost:8080/"
        },
        "id": "FOfX82T95a5H",
        "outputId": "9407e44f-2290-4981-f37e-7bba028cd154"
      },
      "execution_count": 7,
      "outputs": [
        {
          "output_type": "stream",
          "name": "stdout",
          "text": [
            "¿Cuántos números quieres sumar? 3\n",
            "Ingrese el número 1: 4\n",
            "Ingrese el número 2: 6\n",
            "Ingrese el número 3: 7\n",
            "La suma de los números es: 17.0\n"
          ]
        }
      ]
    }
  ]
}