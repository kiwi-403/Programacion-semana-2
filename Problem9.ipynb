{
  "nbformat": 4,
  "nbformat_minor": 0,
  "metadata": {
    "colab": {
      "provenance": [],
      "authorship_tag": "ABX9TyPvNprVj3P3LzPhSiVsG1nt",
      "include_colab_link": true
    },
    "kernelspec": {
      "name": "python3",
      "display_name": "Python 3"
    },
    "language_info": {
      "name": "python"
    }
  },
  "cells": [
    {
      "cell_type": "markdown",
      "metadata": {
        "id": "view-in-github",
        "colab_type": "text"
      },
      "source": [
        "<a href=\"https://colab.research.google.com/github/kiwi-403/Programacion-semana-2/blob/main/Problem9.ipynb\" target=\"_parent\"><img src=\"https://colab.research.google.com/assets/colab-badge.svg\" alt=\"Open In Colab\"/></a>"
      ]
    },
    {
      "cell_type": "code",
      "execution_count": 2,
      "metadata": {
        "colab": {
          "base_uri": "https://localhost:8080/"
        },
        "id": "2E19S45P8lo7",
        "outputId": "06ff88e0-2c56-4614-a16a-a0308c7e68d4"
      },
      "outputs": [
        {
          "output_type": "stream",
          "name": "stdout",
          "text": [
            "Escribe una frase: Como te va en tu dia\n",
            "El número de palabras es: 6\n"
          ]
        }
      ],
      "source": [
        "#Contar palabras\n",
        "texto = input(\"Escribe una frase: \")\n",
        "palabras = texto.split()\n",
        "NumP = 0\n",
        "for palabra in palabras:\n",
        "    NumP += 1\n",
        "print(\"El número de palabras es:\", NumP)\n"
      ]
    }
  ]
}