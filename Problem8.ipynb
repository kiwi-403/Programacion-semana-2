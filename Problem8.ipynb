{
  "nbformat": 4,
  "nbformat_minor": 0,
  "metadata": {
    "colab": {
      "provenance": [],
      "authorship_tag": "ABX9TyPWHJ30EPX57mQAbCmGJ2wE",
      "include_colab_link": true
    },
    "kernelspec": {
      "name": "python3",
      "display_name": "Python 3"
    },
    "language_info": {
      "name": "python"
    }
  },
  "cells": [
    {
      "cell_type": "markdown",
      "metadata": {
        "id": "view-in-github",
        "colab_type": "text"
      },
      "source": [
        "<a href=\"https://colab.research.google.com/github/kiwi-403/Programacion-semana-2/blob/main/Problem8.ipynb\" target=\"_parent\"><img src=\"https://colab.research.google.com/assets/colab-badge.svg\" alt=\"Open In Colab\"/></a>"
      ]
    },
    {
      "cell_type": "code",
      "execution_count": 1,
      "metadata": {
        "colab": {
          "base_uri": "https://localhost:8080/"
        },
        "id": "PJhkdX94BYLW",
        "outputId": "a4d5cdc3-58fc-43cd-b3e4-2c4100f2bd25"
      },
      "outputs": [
        {
          "output_type": "stream",
          "name": "stdout",
          "text": [
            "¿Cuántos números quieres ingresar? 3\n",
            "Ingresa el número 1: 24\n",
            "Ingresa el número 2: 34\n",
            "Ingresa el número 3: 67\n",
            "El número mayor es: 67\n",
            "El número menor es: 24\n"
          ]
        }
      ],
      "source": [
        "#Encontrar el mayor y menor en una lista\n",
        "numeros = []\n",
        "n = int(input(\"¿Cuántos números quieres ingresar? \"))\n",
        "for i in range(n):\n",
        "    Num = int(input(f\"Ingresa el número {i+1}: \"))\n",
        "    numeros += [Num]\n",
        "mayor = max(numeros)\n",
        "menor = min(numeros)\n",
        "print(\"El número mayor es:\", mayor)\n",
        "print(\"El número menor es:\", menor)\n"
      ]
    }
  ]
}