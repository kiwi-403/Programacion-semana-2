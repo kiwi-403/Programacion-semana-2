{
  "nbformat": 4,
  "nbformat_minor": 0,
  "metadata": {
    "colab": {
      "provenance": [],
      "authorship_tag": "ABX9TyNj+zEhoVNJVJFwKpWAFNl0",
      "include_colab_link": true
    },
    "kernelspec": {
      "name": "python3",
      "display_name": "Python 3"
    },
    "language_info": {
      "name": "python"
    }
  },
  "cells": [
    {
      "cell_type": "markdown",
      "metadata": {
        "id": "view-in-github",
        "colab_type": "text"
      },
      "source": [
        "<a href=\"https://colab.research.google.com/github/kiwi-403/Programacion-semana-2/blob/main/Problem12.ipynb\" target=\"_parent\"><img src=\"https://colab.research.google.com/assets/colab-badge.svg\" alt=\"Open In Colab\"/></a>"
      ]
    },
    {
      "cell_type": "code",
      "execution_count": 4,
      "metadata": {
        "colab": {
          "base_uri": "https://localhost:8080/"
        },
        "id": "xfhDUa3r9uUZ",
        "outputId": "df128d05-2d89-4c56-b76b-14d87d1d8425"
      },
      "outputs": [
        {
          "output_type": "stream",
          "name": "stdout",
          "text": [
            "Ingresa números separados por espacio: 3 2 7 5\n",
            "Lista ordenada de menor a mayor: [2, 3, 5, 7]\n"
          ]
        }
      ],
      "source": [
        "numeros = input(\"Ingresa números separados por espacio: \")\n",
        "lista = []\n",
        "numTemporal = \"\"\n",
        "for caracter in numeros:\n",
        "    if caracter != \" \":\n",
        "        numTemporal += caracter\n",
        "    else:\n",
        "        if numTemporal != \"\":\n",
        "            lista += [int(numTemporal)]\n",
        "            numTemporal = \"\"\n",
        "if numTemporal != \"\":\n",
        "    lista += [int(numTemporal)]\n",
        "for i in range(len(lista)):\n",
        "    for j in range(i + 1, len(lista)):\n",
        "        if lista[i] > lista[j]:\n",
        "            lista[i], lista[j] = lista[j], lista[i]\n",
        "print(\"Lista ordenada de menor a mayor:\", lista)\n"
      ]
    }
  ]
}