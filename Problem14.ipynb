{
  "nbformat": 4,
  "nbformat_minor": 0,
  "metadata": {
    "colab": {
      "provenance": [],
      "authorship_tag": "ABX9TyP/GPSR/W2ZhWTvnRE5/Bro",
      "include_colab_link": true
    },
    "kernelspec": {
      "name": "python3",
      "display_name": "Python 3"
    },
    "language_info": {
      "name": "python"
    }
  },
  "cells": [
    {
      "cell_type": "markdown",
      "metadata": {
        "id": "view-in-github",
        "colab_type": "text"
      },
      "source": [
        "<a href=\"https://colab.research.google.com/github/kiwi-403/Programacion-semana-2/blob/main/Problem14.ipynb\" target=\"_parent\"><img src=\"https://colab.research.google.com/assets/colab-badge.svg\" alt=\"Open In Colab\"/></a>"
      ]
    },
    {
      "cell_type": "code",
      "execution_count": 1,
      "metadata": {
        "colab": {
          "base_uri": "https://localhost:8080/"
        },
        "id": "wNP4WslW_unW",
        "outputId": "d4678ba4-2b5e-465f-c03e-e1b3edf2d965"
      },
      "outputs": [
        {
          "output_type": "stream",
          "name": "stdout",
          "text": [
            "Ingresa el número de elementos en la lista: 34\n",
            "Lista de números aleatorios: [8, 21, 34, 47, 60, 73, 86, 99, 12, 25, 38, 51, 64, 77, 90, 3, 16, 29, 42, 55, 68, 81, 94, 7, 20, 33, 46, 59, 72, 85, 98, 11, 24, 37]\n"
          ]
        }
      ],
      "source": [
        "n = int(input(\"Ingresa el número de elementos en la lista: \"))\n",
        "numeros_aleatorios = []\n",
        "for i in range(n):\n",
        "    Num1 = (i * 13 + 7) % 100 + 1\n",
        "    numeros_aleatorios += [Num1]\n",
        "print(\"Lista de números aleatorios:\", numeros_aleatorios)\n"
      ]
    }
  ]
}