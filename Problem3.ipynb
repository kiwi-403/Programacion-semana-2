{
  "nbformat": 4,
  "nbformat_minor": 0,
  "metadata": {
    "colab": {
      "provenance": [],
      "authorship_tag": "ABX9TyMLRV9Qp0vYOWZwjbT6c94r",
      "include_colab_link": true
    },
    "kernelspec": {
      "name": "python3",
      "display_name": "Python 3"
    },
    "language_info": {
      "name": "python"
    }
  },
  "cells": [
    {
      "cell_type": "markdown",
      "metadata": {
        "id": "view-in-github",
        "colab_type": "text"
      },
      "source": [
        "<a href=\"https://colab.research.google.com/github/kiwi-403/Programacion-semana-2/blob/main/Problem3.ipynb\" target=\"_parent\"><img src=\"https://colab.research.google.com/assets/colab-badge.svg\" alt=\"Open In Colab\"/></a>"
      ]
    },
    {
      "cell_type": "code",
      "execution_count": 7,
      "metadata": {
        "colab": {
          "base_uri": "https://localhost:8080/"
        },
        "id": "LNVxl0FFyo7z",
        "outputId": "1234dc9b-61fc-4565-9704-66ea72cd4689"
      },
      "outputs": [
        {
          "output_type": "stream",
          "name": "stdout",
          "text": [
            "Introduce el numero para saber si es primo:7\n",
            "El numero 7 es primo\n"
          ]
        }
      ],
      "source": [
        "#Determinar si un numero es primo o no\n",
        "num=int(input(\"Introduce el numero para saber si es primo:\"))\n",
        "if num<=1:\n",
        "  print(\"El numero no es primo\")\n",
        "else:\n",
        "  divisor=2\n",
        "  primo=True\n",
        "  while divisor<num:\n",
        "    if num%divisor==0:\n",
        "      primo=False\n",
        "    break\n",
        "    divisor+=1\n",
        "if primo:\n",
        "  print(\"El numero\",num,\"es primo\")\n",
        "else:\n",
        "    print(\"El numero\",num,\"no es primo\")"
      ]
    }
  ]
}