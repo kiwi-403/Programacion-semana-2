{
  "nbformat": 4,
  "nbformat_minor": 0,
  "metadata": {
    "colab": {
      "provenance": [],
      "authorship_tag": "ABX9TyMwy4GDeRL2SBeGfjEr07QC",
      "include_colab_link": true
    },
    "kernelspec": {
      "name": "python3",
      "display_name": "Python 3"
    },
    "language_info": {
      "name": "python"
    }
  },
  "cells": [
    {
      "cell_type": "markdown",
      "metadata": {
        "id": "view-in-github",
        "colab_type": "text"
      },
      "source": [
        "<a href=\"https://colab.research.google.com/github/kiwi-403/Programacion-semana-2/blob/main/Problem5.ipynb\" target=\"_parent\"><img src=\"https://colab.research.google.com/assets/colab-badge.svg\" alt=\"Open In Colab\"/></a>"
      ]
    },
    {
      "cell_type": "code",
      "execution_count": 3,
      "metadata": {
        "colab": {
          "base_uri": "https://localhost:8080/"
        },
        "id": "1Su6ZBr-2HLw",
        "outputId": "e5f08bc1-2294-42e2-e3a3-7a587f0527c0"
      },
      "outputs": [
        {
          "output_type": "stream",
          "name": "stdout",
          "text": [
            "Introduce la palabra:Karen Janeth de la peña valdez\n",
            "El numero de vocales en la palabra es :10\n"
          ]
        }
      ],
      "source": [
        "#Vocales en una cadena de texto\n",
        "texto=input(\"Introduce la palabra:\")\n",
        "Cvocales=0\n",
        "vocales=\"AEIOUaeiou\"\n",
        "for letra in texto:\n",
        "  if letra in vocales:\n",
        "    Cvocales+=1\n",
        "print(f\"El numero de vocales en la palabra es :{Cvocales}\")"
      ]
    }
  ]
}