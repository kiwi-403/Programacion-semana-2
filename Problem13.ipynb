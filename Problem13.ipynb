{
  "nbformat": 4,
  "nbformat_minor": 0,
  "metadata": {
    "colab": {
      "provenance": [],
      "authorship_tag": "ABX9TyPSCGsJxaenJ2csBw6Iw+VY",
      "include_colab_link": true
    },
    "kernelspec": {
      "name": "python3",
      "display_name": "Python 3"
    },
    "language_info": {
      "name": "python"
    }
  },
  "cells": [
    {
      "cell_type": "markdown",
      "metadata": {
        "id": "view-in-github",
        "colab_type": "text"
      },
      "source": [
        "<a href=\"https://colab.research.google.com/github/kiwi-403/Programacion-semana-2/blob/main/Problem13.ipynb\" target=\"_parent\"><img src=\"https://colab.research.google.com/assets/colab-badge.svg\" alt=\"Open In Colab\"/></a>"
      ]
    },
    {
      "cell_type": "code",
      "execution_count": 2,
      "metadata": {
        "colab": {
          "base_uri": "https://localhost:8080/"
        },
        "id": "tDhuTKyD-1wb",
        "outputId": "02a6964b-f4b6-444e-d020-282977622fcd"
      },
      "outputs": [
        {
          "output_type": "stream",
          "name": "stdout",
          "text": [
            "Ingresa una cadena de texto: Dinosaurios extintos\n",
            "Ingresa el carácter que deseas contar: i\n",
            "El carácter 'i' aparece 3 veces en la cadena.\n"
          ]
        }
      ],
      "source": [
        "#Contar Caracteres\n",
        "texto = input(\"Ingresa una cadena de texto: \")\n",
        "caracter = input(\"Ingresa el carácter que deseas contar: \")\n",
        "contador = 0\n",
        "for letra in texto:\n",
        "    if letra == caracter:\n",
        "        contador += 1\n",
        "print(f\"El carácter '{caracter}' aparece {contador} veces en la cadena.\")\n"
      ]
    }
  ]
}