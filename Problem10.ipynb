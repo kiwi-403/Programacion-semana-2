{
  "nbformat": 4,
  "nbformat_minor": 0,
  "metadata": {
    "colab": {
      "provenance": [],
      "authorship_tag": "ABX9TyOvVVBMavSH/m98sBYT5/YV",
      "include_colab_link": true
    },
    "kernelspec": {
      "name": "python3",
      "display_name": "Python 3"
    },
    "language_info": {
      "name": "python"
    }
  },
  "cells": [
    {
      "cell_type": "markdown",
      "metadata": {
        "id": "view-in-github",
        "colab_type": "text"
      },
      "source": [
        "<a href=\"https://colab.research.google.com/github/kiwi-403/Programacion-semana-2/blob/main/Problem10.ipynb\" target=\"_parent\"><img src=\"https://colab.research.google.com/assets/colab-badge.svg\" alt=\"Open In Colab\"/></a>"
      ]
    },
    {
      "cell_type": "code",
      "execution_count": 1,
      "metadata": {
        "colab": {
          "base_uri": "https://localhost:8080/"
        },
        "id": "2nVvMttM7f5B",
        "outputId": "ec991354-3866-40b4-bcac-fc2c84b674bd"
      },
      "outputs": [
        {
          "output_type": "stream",
          "name": "stdout",
          "text": [
            "Escribe una palabra o frase: Hola\n",
            "El texto invertido es: aloH\n"
          ]
        }
      ],
      "source": [
        "#Invertir una cadena\n",
        "texto = input(\"Escribe una palabra o frase: \")\n",
        "InTexto = \"\"\n",
        "\n",
        "for i in range(len(texto) - 1, -1, -1):\n",
        "    InTexto += texto[i]\n",
        "\n",
        "print(\"El texto invertido es:\", InTexto)\n"
      ]
    }
  ]
}