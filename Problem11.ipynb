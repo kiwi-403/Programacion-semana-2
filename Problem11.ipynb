{
  "nbformat": 4,
  "nbformat_minor": 0,
  "metadata": {
    "colab": {
      "provenance": [],
      "authorship_tag": "ABX9TyNn5wx5Vj+sAOaw4yxB3pr2",
      "include_colab_link": true
    },
    "kernelspec": {
      "name": "python3",
      "display_name": "Python 3"
    },
    "language_info": {
      "name": "python"
    }
  },
  "cells": [
    {
      "cell_type": "markdown",
      "metadata": {
        "id": "view-in-github",
        "colab_type": "text"
      },
      "source": [
        "<a href=\"https://colab.research.google.com/github/kiwi-403/Programacion-semana-2/blob/main/Problem11.ipynb\" target=\"_parent\"><img src=\"https://colab.research.google.com/assets/colab-badge.svg\" alt=\"Open In Colab\"/></a>"
      ]
    },
    {
      "cell_type": "code",
      "execution_count": 1,
      "metadata": {
        "colab": {
          "base_uri": "https://localhost:8080/"
        },
        "id": "XldcHLbC6WqB",
        "outputId": "4a3f02bf-fe50-43be-e98e-7541ca5a0e3d"
      },
      "outputs": [
        {
          "output_type": "stream",
          "name": "stdout",
          "text": [
            "Ingresa un número entero: 45\n",
            "La suma de los dígitos es: 9\n"
          ]
        }
      ],
      "source": [
        "#Suma de digitos\n",
        "numero = input(\"Ingresa un número entero: \")\n",
        "sumD = 0\n",
        "for i in numero:\n",
        "    sumD = sumD + int(i)\n",
        "print(\"La suma de los dígitos es:\", sumD)\n"
      ]
    }
  ]
}