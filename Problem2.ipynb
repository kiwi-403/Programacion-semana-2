{
  "nbformat": 4,
  "nbformat_minor": 0,
  "metadata": {
    "colab": {
      "provenance": [],
      "authorship_tag": "ABX9TyMA/3Tvme0haERTqScl6L7y",
      "include_colab_link": true
    },
    "kernelspec": {
      "name": "python3",
      "display_name": "Python 3"
    },
    "language_info": {
      "name": "python"
    }
  },
  "cells": [
    {
      "cell_type": "markdown",
      "metadata": {
        "id": "view-in-github",
        "colab_type": "text"
      },
      "source": [
        "<a href=\"https://colab.research.google.com/github/kiwi-403/Programacion-semana-2/blob/main/Problem2.ipynb\" target=\"_parent\"><img src=\"https://colab.research.google.com/assets/colab-badge.svg\" alt=\"Open In Colab\"/></a>"
      ]
    },
    {
      "cell_type": "code",
      "execution_count": 4,
      "metadata": {
        "colab": {
          "base_uri": "https://localhost:8080/"
        },
        "id": "KVQVzrg6wiJI",
        "outputId": "691ea0b8-2747-473b-f3af-1cd76fc3b769"
      },
      "outputs": [
        {
          "output_type": "stream",
          "name": "stdout",
          "text": [
            "Introduce un numero que este entre 1 y 20:6\n",
            "El factorial de 6 es: 720\n"
          ]
        }
      ],
      "source": [
        "#Numero entre 1 y 20\n",
        "num=int(input(\"Introduce un numero que este entre 1 y 20:\"))\n",
        "if 1<=num<=20:\n",
        "  fact=1\n",
        "  i=1\n",
        "\n",
        "  #Calculamos el factorial\n",
        "  while i<=num:\n",
        "    fact*= i\n",
        "    i+=1\n",
        "\n",
        "  print(\"El factorial de\",num,\"es:\",fact)\n",
        "else:\n",
        "  print(\"No a introducido un numero entre 1 y 20\")"
      ]
    }
  ]
}