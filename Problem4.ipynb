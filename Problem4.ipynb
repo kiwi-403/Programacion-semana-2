{
  "nbformat": 4,
  "nbformat_minor": 0,
  "metadata": {
    "colab": {
      "provenance": [],
      "authorship_tag": "ABX9TyPfAiiXbWB+0B1gNZaMIVG5",
      "include_colab_link": true
    },
    "kernelspec": {
      "name": "python3",
      "display_name": "Python 3"
    },
    "language_info": {
      "name": "python"
    }
  },
  "cells": [
    {
      "cell_type": "markdown",
      "metadata": {
        "id": "view-in-github",
        "colab_type": "text"
      },
      "source": [
        "<a href=\"https://colab.research.google.com/github/kiwi-403/Programacion-semana-2/blob/main/Problem4.ipynb\" target=\"_parent\"><img src=\"https://colab.research.google.com/assets/colab-badge.svg\" alt=\"Open In Colab\"/></a>"
      ]
    },
    {
      "cell_type": "code",
      "execution_count": 1,
      "metadata": {
        "colab": {
          "base_uri": "https://localhost:8080/"
        },
        "id": "kPlKlTHVCXKI",
        "outputId": "9033ce08-dafa-49b9-a616-c9d90b1f9c3d"
      },
      "outputs": [
        {
          "output_type": "stream",
          "name": "stdout",
          "text": [
            "Ingresa el número de términos de la secuencia de Fibonacci (entre 1 y 50): 19\n",
            "Los primeros 19 números de Fibonacci son: [0, 1, 1, 2, 3, 5, 8, 13, 21, 34, 55, 89, 144, 233, 377, 610, 987, 1597, 2584]\n"
          ]
        }
      ],
      "source": [
        "#Numeros Fibonacci\n",
        "n = int(input(\"Ingresa el número de términos de la secuencia de Fibonacci (entre 1 y 50): \"))\n",
        "if n < 1 or n > 50:\n",
        "    print(\"El valor de n debe estar entre 1 y 50.\")\n",
        "else:\n",
        "    fibonacci = [0, 1]\n",
        "    for i in range(2, n):\n",
        "        siguiente = fibonacci[i-1] + fibonacci[i-2]\n",
        "        fibonacci += [siguiente]\n",
        "    print(\"Los primeros\", n, \"números de Fibonacci son:\", fibonacci[:n])\n"
      ]
    }
  ]
}